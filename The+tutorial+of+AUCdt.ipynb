{
 "cells": [
  {
   "cell_type": "markdown",
   "metadata": {},
   "source": [
    "## AUCdt is the Area Under the Distance Threshold Curve, which is similar as a ROC to assess the performance of a multiple-label classification. In our dataset, the classifier has 5 classes and probabilistic predictions. Since true positive rate and false positive rate don't work on the multiple-label classification task. We calculate AUCdt to provide a measurement of the classifier performance."
   ]
  },
  {
   "cell_type": "code",
   "execution_count": 1,
   "metadata": {
    "collapsed": true
   },
   "outputs": [],
   "source": [
    "# =====================================================================\n",
    "# IMPORT LIBRARIES\n",
    "# =====================================================================\n",
    "import pandas as pd\n",
    "import numpy as np\n",
    "import math\n",
    "import seaborn as sns\n",
    "import matplotlib.pyplot as plt\n",
    "from matplotlib.colors import ListedColormap\n",
    "%matplotlib inline  "
   ]
  },
  {
   "cell_type": "code",
   "execution_count": 5,
   "metadata": {
    "collapsed": true
   },
   "outputs": [],
   "source": [
    "def getFile(myFile):\n",
    "    # Read files\n",
    "    myData = pd.read_csv(projectPath + myFile)\n",
    "    return myData"
   ]
  },
  {
   "cell_type": "code",
   "execution_count": 7,
   "metadata": {
    "collapsed": false
   },
   "outputs": [],
   "source": [
    "# =====================================================================\n",
    "# SET PROCESSING VARIABLES - map a network path X:/ to your main folder \n",
    "# =====================================================================\n",
    "global projectPath\n",
    "\n",
    "# File Paths\n",
    "projectPath = \"C:/Users/William/Downloads/\""
   ]
  },
  {
   "cell_type": "code",
   "execution_count": 111,
   "metadata": {
    "collapsed": false
   },
   "outputs": [],
   "source": [
    "# =====================================================================\n",
    "# GET DATA SETS\n",
    "# label prefixes - c: rater counts; p: probabilistic; pw: probabilistic weighted\n",
    "# =====================================================================\n",
    "# Data Set A for Base Model\n",
    "fDatasetCols = 'actual_value.csv'\n",
    "actual = getFile(fDatasetCols)\n",
    "fDatasetCols = 'predicted_value.csv'\n",
    "predicted = getFile(fDatasetCols)"
   ]
  },
  {
   "cell_type": "code",
   "execution_count": 112,
   "metadata": {
    "collapsed": false
   },
   "outputs": [],
   "source": [
    "actual=actual.drop(['Unnamed: 0'],axis=1)\n",
    "predicted=predicted.drop(['Unnamed: 0'],axis=1)"
   ]
  },
  {
   "cell_type": "markdown",
   "metadata": {},
   "source": [
    "## To understand the AUCdt, I use the first observation to make an example. "
   ]
  },
  {
   "cell_type": "code",
   "execution_count": 90,
   "metadata": {
    "collapsed": false
   },
   "outputs": [],
   "source": [
    "\n",
    "value_actual=np.array(actual)[0]\n",
    "\n",
    "value_predicted=np.array(predicted)[0]"
   ]
  },
  {
   "cell_type": "code",
   "execution_count": 103,
   "metadata": {
    "collapsed": false
   },
   "outputs": [
    {
     "data": {
      "image/png": "[encoded data removed]",
      "text/plain": [
       "<matplotlib.figure.Figure at 0x22631cc5d68>"
      ]
     },
     "metadata": {},
     "output_type": "display_data"
    }
   ],
   "source": [
    "X=range(5)\n",
    "actual=plt.bar(X,value_actual,align='center',color='red',alpha=0.5)\n",
    "predict=plt.bar(X,value_predicted,align='center',color='blue',alpha=0.5)\n",
    "plt.legend((actual[0],predict[0]),('Actual Value','Predicted Value'))\n",
    "plt.show()"
   ]
  },
  {
   "cell_type": "markdown",
   "metadata": {},
   "source": [
    "## In the plot we could see the red bar plot is actual value, and the blue bar plot is predicted value. We need to qualify the differences between these two distributions. The ways to qualify the differences are the City Block, Jeffrey Divergence, and Earth Mover's Distance."
   ]
  },
  {
   "cell_type": "markdown",
   "metadata": {},
   "source": [
    "## 1. We perform the Jeffrey Divergence distance metrics for each class, and sum the distance of each class to get only one value for each sample."
   ]
  },
  {
   "cell_type": "code",
   "execution_count": 114,
   "metadata": {
    "collapsed": false
   },
   "outputs": [
    {
     "data": {
      "text/plain": [
       "array([[0.        , 0.        , 0.        , 0.25      , 0.75      ],\n",
       "       [0.        , 0.        , 0.        , 0.5       , 0.5       ],\n",
       "       [0.        , 0.        , 0.25      , 0.25      , 0.5       ],\n",
       "       ...,\n",
       "       [0.        , 0.66666667, 0.33333333, 0.        , 0.        ],\n",
       "       [0.        , 1.        , 0.        , 0.        , 0.        ],\n",
       "       [0.        , 0.25      , 0.25      , 0.        , 0.5       ]])"
      ]
     },
     "execution_count": 114,
     "metadata": {},
     "output_type": "execute_result"
    }
   ],
   "source": [
    "actual=np.array(actual)\n",
    "actual"
   ]
  },
  {
   "cell_type": "code",
   "execution_count": 115,
   "metadata": {
    "collapsed": false
   },
   "outputs": [
    {
     "data": {
      "text/plain": [
       "array([[0.        , 0.075     , 0.16666667, 0.10833333, 0.65      ],\n",
       "       [0.03333333, 0.45      , 0.41666667, 0.05      , 0.05      ],\n",
       "       [0.03333333, 0.10833333, 0.23333333, 0.23333333, 0.39166667],\n",
       "       ...,\n",
       "       [0.1       , 0.56666667, 0.3       , 0.03333333, 0.        ],\n",
       "       [0.05      , 0.1       , 0.575     , 0.175     , 0.1       ],\n",
       "       [0.05      , 0.40833333, 0.28333333, 0.175     , 0.08333333]])"
      ]
     },
     "execution_count": 115,
     "metadata": {},
     "output_type": "execute_result"
    }
   ],
   "source": [
    "predicted=np.array(predicted)\n",
    "predicted"
   ]
  },
  {
   "cell_type": "code",
   "execution_count": 121,
   "metadata": {
    "collapsed": true
   },
   "outputs": [],
   "source": [
    "#number of samples\n",
    "m=actual.shape[0]\n",
    "#number of labels\n",
    "p=actual.shape[1]\n",
    "dist=np.zeros(m)\n",
    "#compute the Jeffrey Divergence Distance\n",
    "for i in range(m):\n",
    "    d=0\n",
    "    for j in range(p):\n",
    "        #(A+B)/2\n",
    "        q=(actual[i,j]+predicted[i,j])/2\n",
    "        #calculate label's distance between actual value and predicted value\n",
    "        if actual[i,j]==0 and predicted[i,j]==0:\n",
    "            d=d+0\n",
    "        elif actual[i,j]==0 and predicted[i,j]!=0:\n",
    "            d=d+0+predicted[i,j]*math.log(predicted[i,j]/q)\n",
    "        elif actual[i,j]!=0 and predicted[i,j]==0:\n",
    "            d=d+actual[i,j]*math.log(actual[i,j]/q)+0\n",
    "        else:\n",
    "            d=d+actual[i,j]*math.log(actual[i,j]/q)+predicted[i,j]*math.log(predicted[i,j]/q)\n",
    "    dist[i]=d"
   ]
  },
  {
   "cell_type": "code",
   "execution_count": 124,
   "metadata": {
    "collapsed": false
   },
   "outputs": [
    {
     "name": "stdout",
     "output_type": "stream",
     "text": [
      "[0.19986826 1.05119465 0.10536796 ... 0.09735573 1.05119465 0.34132982]\n",
      "(2588,)\n"
     ]
    }
   ],
   "source": [
    "#dist is the array of distance.\n",
    "print(dist)\n",
    "print(dist.shape)"
   ]
  },
  {
   "cell_type": "markdown",
   "metadata": {},
   "source": [
    "## 2. compute the distance-threshold"
   ]
  },
  {
   "cell_type": "markdown",
   "metadata": {},
   "source": [
    "## After we create all distance, we need to vary distance values for threshold values of 0 to 1 with 0.05 increments, and report the frequency of samples for each threshold value."
   ]
  },
  {
   "cell_type": "code",
   "execution_count": 128,
   "metadata": {
    "collapsed": false
   },
   "outputs": [],
   "source": [
    "DTh=[]\n",
    "threshold=np.arange(0.0, 1.0, 0.05)\n",
    "for x in threshold:\n",
    "    dt=0\n",
    "    for i in range(dist.shape[0]):\n",
    "        if dist[i] <= x: #compared the distance with threshold \n",
    "            dt=dt+1\n",
    "        else:\n",
    "            dt=dt\n",
    "    DTh = np.append(DTh,dt/dist.shape[0]) # add threshold to threshold list"
   ]
  },
  {
   "cell_type": "code",
   "execution_count": 131,
   "metadata": {
    "collapsed": false
   },
   "outputs": [
    {
     "name": "stdout",
     "output_type": "stream",
     "text": [
      "[0.         0.02279753 0.07573416 0.14992272 0.22063369 0.2824575\n",
      " 0.36939722 0.44474498 0.51816074 0.58771252 0.66035549 0.72720247\n",
      " 0.77163833 0.82457496 0.85973725 0.88987635 0.91035549 0.9374034\n",
      " 0.95324575 0.9675425 ]\n",
      "(20,)\n"
     ]
    }
   ],
   "source": [
    "#the array of distance-threshold\n",
    "print(DTh)\n",
    "print(DTh.shape)"
   ]
  },
  {
   "cell_type": "code",
   "execution_count": 136,
   "metadata": {
    "collapsed": false
   },
   "outputs": [
    {
     "name": "stderr",
     "output_type": "stream",
     "text": [
      "C:\\Users\\William\\Anaconda3\\lib\\site-packages\\matplotlib\\axes\\_axes.py:545: UserWarning: No labelled objects found. Use label='...' kwarg on individual plots.\n",
      "  warnings.warn(\"No labelled objects found. \"\n"
     ]
    },
    {
     "data": {
      "image/png": "[encoded data removed]",
      "text/plain": [
       "<matplotlib.figure.Figure at 0x22631a1f780>"
      ]
     },
     "metadata": {},
     "output_type": "display_data"
    }
   ],
   "source": [
    "threshold=np.arange(0.0, 1.0, 0.05)\n",
    "plt.figure()\n",
    "lw=2\n",
    "plt.plot(threshold, DTh)\n",
    "plt.plot([0, 1], [0, 1], color='navy', lw=lw, linestyle='--')\n",
    "plt.xlabel('Distance Threshold Values')\n",
    "plt.ylabel('% Frequency')\n",
    "plt.title('The Area Under the Distance Threshold Curve')\n",
    "plt.legend(loc=\"lower right\")\n",
    "plt.show()"
   ]
  },
  {
   "cell_type": "markdown",
   "metadata": {},
   "source": [
    "## 3. We generate the curve. The area under the distance threshold curve could be used for comparison."
   ]
  },
  {
   "cell_type": "code",
   "execution_count": 137,
   "metadata": {
    "collapsed": true
   },
   "outputs": [],
   "source": [
    "area=np.trapz(DTh,threshold)"
   ]
  },
  {
   "cell_type": "code",
   "execution_count": 141,
   "metadata": {
    "collapsed": false
   },
   "outputs": [
    {
     "name": "stdout",
     "output_type": "stream",
     "text": [
      "The area under the distance threshold curve is 0.53\n"
     ]
    }
   ],
   "source": [
    "print('The area under the distance threshold curve is %0.2f'%area)"
   ]
  },
  {
   "cell_type": "code",
   "execution_count": null,
   "metadata": {
    "collapsed": true
   },
   "outputs": [],
   "source": []
  },
  {
   "cell_type": "markdown",
   "metadata": {},
   "source": [
    "# The function of AUCdt"
   ]
  },
  {
   "cell_type": "code",
   "execution_count": 143,
   "metadata": {
    "collapsed": false
   },
   "outputs": [],
   "source": [
    "def AUCdt(actual_value, predicted_value):\n",
    "    #Actual_value and Predicted_value are array\n",
    "    \n",
    "    #number of samples\n",
    "    m=actual.shape[0]\n",
    "    #number of labels\n",
    "    p=actual.shape[1]\n",
    "    dist=np.zeros(m)\n",
    "    #compute the Jeffrey Divergence Distance\n",
    "    for i in range(m):\n",
    "        d=0\n",
    "        for j in range(p):\n",
    "            #(A+B)/2\n",
    "            q=(actual[i,j]+predicted[i,j])/2\n",
    "            #calculate label's distance between actual value and predicted value\n",
    "            if actual[i,j]==0 and predicted[i,j]==0:\n",
    "                d=d+0\n",
    "            elif actual[i,j]==0 and predicted[i,j]!=0:\n",
    "                d=d+0+predicted[i,j]*math.log(predicted[i,j]/q)\n",
    "            elif actual[i,j]!=0 and predicted[i,j]==0:\n",
    "                d=d+actual[i,j]*math.log(actual[i,j]/q)+0\n",
    "            else:\n",
    "                d=d+actual[i,j]*math.log(actual[i,j]/q)+predicted[i,j]*math.log(predicted[i,j]/q)\n",
    "        dist[i]=d\n",
    "    #compute the distance-threshold\n",
    "    DTh=[]\n",
    "    threshold=np.arange(0.0, 1.0, 0.05)\n",
    "    for x in threshold:\n",
    "        dt=0\n",
    "        for i in range(dist.shape[0]):\n",
    "            if dist[i] <= x: #compared the distance with threshold \n",
    "                dt=dt+1\n",
    "            else:\n",
    "                dt=dt\n",
    "        DTh = np.append(DTh,dt/dist.shape[0]) # add threshold to threshold list\n",
    "    #the area of the curve\n",
    "    area=np.trapz(DTh,threshold)\n",
    "    print('The area under the distance threshold curve is %0.2f'%area)\n",
    "    \n",
    "    #plot the curve\n",
    "    threshold=np.arange(0.0, 1.0, 0.05)\n",
    "    plt.figure()\n",
    "    lw=2\n",
    "    plt.plot(threshold, DTh, label='AUC curve (area = %0.2f)' % area)\n",
    "    plt.plot([0, 1], [0, 1], color='navy', lw=lw, linestyle='--')\n",
    "    plt.xlabel('Distance Threshold Values')\n",
    "    plt.ylabel('% Frequency')\n",
    "    plt.title('The Area Under the Distance Threshold Curve')\n",
    "    plt.legend(loc=\"lower right\")\n",
    "    plt.show()\n",
    "    \n"
   ]
  },
  {
   "cell_type": "code",
   "execution_count": 145,
   "metadata": {
    "collapsed": false
   },
   "outputs": [
    {
     "name": "stdout",
     "output_type": "stream",
     "text": [
      "The area under the distance threshold curve is 0.53\n"
     ]
    },
    {
     "data": {
      "image/png": "[encoded data removed]",
      "text/plain": [
       "<matplotlib.figure.Figure at 0x22631cce128>"
      ]
     },
     "metadata": {},
     "output_type": "display_data"
    }
   ],
   "source": [
    "AUCdt(actual,predicted)"
   ]
  },
  {
   "cell_type": "code",
   "execution_count": null,
   "metadata": {
    "collapsed": true
   },
   "outputs": [],
   "source": []
  }
 ],
 "metadata": {
  "kernelspec": {
   "display_name": "Python 3",
   "language": "python",
   "name": "python3"
  },
  "language_info": {
   "codemirror_mode": {
    "name": "ipython",
    "version": 3
   },
   "file_extension": ".py",
   "mimetype": "text/x-python",
   "name": "python",
   "nbconvert_exporter": "python",
   "pygments_lexer": "ipython3",
   "version": "3.6.0"
  }
 },
 "nbformat": 4,
 "nbformat_minor": 2
}
